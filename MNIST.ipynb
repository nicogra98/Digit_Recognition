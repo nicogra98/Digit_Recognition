{
  "nbformat": 4,
  "nbformat_minor": 0,
  "metadata": {
    "accelerator": "GPU",
    "colab": {
      "name": "MNIST.ipynb",
      "provenance": [],
      "collapsed_sections": []
    },
    "kernelspec": {
      "display_name": "Python 3",
      "name": "python3"
    }
  },
  "cells": [
    {
      "cell_type": "markdown",
      "metadata": {
        "id": "8Nbnzah7HFXF"
      },
      "source": [
        "Import the libraries needed"
      ]
    },
    {
      "cell_type": "code",
      "metadata": {
        "id": "pv8kwlH3Gw7C"
      },
      "source": [
        "import tensorflow as tf\r\n",
        "import numpy as np\r\n",
        "import keras\r\n",
        "\r\n",
        "from tensorflow.keras import datasets, layers, models\r\n",
        "import matplotlib.pyplot as plt\r\n",
        "\r\n",
        "from PIL import Image\r\n"
      ],
      "execution_count": null,
      "outputs": []
    },
    {
      "cell_type": "markdown",
      "metadata": {
        "id": "rtlZkIhdHQEa"
      },
      "source": [
        "Import the dataset MNIST"
      ]
    },
    {
      "cell_type": "code",
      "metadata": {
        "id": "3EU0OghoHPHh"
      },
      "source": [
        "(train_images,train_labels),(test_images,test_labels)=datasets.mnist.load_data()"
      ],
      "execution_count": null,
      "outputs": []
    },
    {
      "cell_type": "markdown",
      "metadata": {
        "id": "5AA-IBhlHga9"
      },
      "source": [
        "We look at the structure of the data"
      ]
    },
    {
      "cell_type": "code",
      "metadata": {
        "colab": {
          "base_uri": "https://localhost:8080/"
        },
        "id": "OLjPZH6fHiq7",
        "outputId": "f38a53b1-cc7d-4300-fd1d-b673905a0b8e"
      },
      "source": [
        "print(train_images.shape)\r\n",
        "print(test_images.shape)\r\n",
        "print(train_labels.shape)\r\n",
        "print(train_labels[1])"
      ],
      "execution_count": null,
      "outputs": [
        {
          "output_type": "stream",
          "text": [
            "(60000, 28, 28)\n",
            "(10000, 28, 28)\n",
            "(60000,)\n",
            "0\n"
          ],
          "name": "stdout"
        }
      ]
    },
    {
      "cell_type": "markdown",
      "metadata": {
        "id": "9iDKKuvlILFg"
      },
      "source": [
        "Print the first 9 examples"
      ]
    },
    {
      "cell_type": "code",
      "metadata": {
        "colab": {
          "base_uri": "https://localhost:8080/",
          "height": 268
        },
        "id": "lEjnEOlcIObf",
        "outputId": "7ef94f2e-28f9-4a7e-f560-a132d6f9232d"
      },
      "source": [
        "for i in range(0,9):\r\n",
        "  plt.subplot(3, 3, i + 1)\r\n",
        "  plt.imshow(train_images[i], cmap=plt.get_cmap('gray'))"
      ],
      "execution_count": null,
      "outputs": [
        {
          "output_type": "display_data",
          "data": {
            "image/png": "[encoded data removed]",
            "text/plain": [
              "<Figure size 432x288 with 9 Axes>"
            ]
          },
          "metadata": {
            "tags": []
          }
        }
      ]
    },
    {
      "cell_type": "markdown",
      "metadata": {
        "id": "QqN6gPnESi8w"
      },
      "source": [
        "We prepare the data: Add an extra column for the pixel values and normalize data\r\n",
        "(we have values from 0-255)"
      ]
    },
    {
      "cell_type": "code",
      "metadata": {
        "id": "8YAf-0u1SvDc"
      },
      "source": [
        "train_images = train_images.reshape(train_images.shape[0], 28, 28, 1)\r\n",
        "test_images = test_images.reshape(test_images.shape[0], 28, 28, 1)\r\n",
        "\r\n",
        "train_labels = keras.utils.to_categorical(train_labels, 10)\r\n",
        "test_labels = keras.utils.to_categorical(test_labels, 10)\r\n",
        "\r\n",
        "train_images = train_images.astype('float32')\r\n",
        "test_images = test_images.astype('float32')\r\n",
        "\r\n",
        "train_images /= 255\r\n",
        "test_images /= 255\r\n"
      ],
      "execution_count": null,
      "outputs": []
    },
    {
      "cell_type": "markdown",
      "metadata": {
        "id": "TxUIHqUyKzDP"
      },
      "source": [
        "We define a CNN model. Activation = relu for conv layers and softmax for output layer"
      ]
    },
    {
      "cell_type": "code",
      "metadata": {
        "id": "AXQp5EctLAK3"
      },
      "source": [
        "def create_model_cnn():\r\n",
        "  model = models.Sequential()\r\n",
        "  model.add(layers.Conv2D(32, (3, 3), activation='relu',input_shape=(28, 28, 1)))\r\n",
        "  model.add(layers.Conv2D(64, (3,3), activation='relu'))\r\n",
        "  model.add(layers.MaxPool2D((2,2)))\r\n",
        "  model.add(layers.Dropout(0.25))\r\n",
        " \r\n",
        "  model.add(layers.Flatten())\r\n",
        " \r\n",
        "  model.add(layers.Dense(256, activation='relu'))\r\n",
        "  model.add(layers.Dropout(0.5))\r\n",
        "  model.add(layers.Dense(10, activation='softmax'))  \r\n",
        " \r\n",
        "  return model\r\n",
        "\r\n"
      ],
      "execution_count": null,
      "outputs": []
    },
    {
      "cell_type": "markdown",
      "metadata": {
        "id": "f6zpuEcRP4Ss"
      },
      "source": [
        "We create the previously defined CNN model and get a summary"
      ]
    },
    {
      "cell_type": "code",
      "metadata": {
        "colab": {
          "base_uri": "https://localhost:8080/"
        },
        "id": "lh37_Zv9P9Ix",
        "outputId": "231bea3b-9163-4d8f-cfec-674f7b236312"
      },
      "source": [
        "model = create_model_cnn()\r\n",
        "model.summary()"
      ],
      "execution_count": null,
      "outputs": [
        {
          "output_type": "stream",
          "text": [
            "Model: \"sequential_2\"\n",
            "_________________________________________________________________\n",
            "Layer (type)                 Output Shape              Param #   \n",
            "=================================================================\n",
            "conv2d_4 (Conv2D)            (None, 26, 26, 32)        320       \n",
            "_________________________________________________________________\n",
            "conv2d_5 (Conv2D)            (None, 24, 24, 64)        18496     \n",
            "_________________________________________________________________\n",
            "max_pooling2d_2 (MaxPooling2 (None, 12, 12, 64)        0         \n",
            "_________________________________________________________________\n",
            "dropout_4 (Dropout)          (None, 12, 12, 64)        0         \n",
            "_________________________________________________________________\n",
            "flatten_2 (Flatten)          (None, 9216)              0         \n",
            "_________________________________________________________________\n",
            "dense_4 (Dense)              (None, 256)               2359552   \n",
            "_________________________________________________________________\n",
            "dropout_5 (Dropout)          (None, 256)               0         \n",
            "_________________________________________________________________\n",
            "dense_5 (Dense)              (None, 10)                2570      \n",
            "=================================================================\n",
            "Total params: 2,380,938\n",
            "Trainable params: 2,380,938\n",
            "Non-trainable params: 0\n",
            "_________________________________________________________________\n"
          ],
          "name": "stdout"
        }
      ]
    },
    {
      "cell_type": "markdown",
      "metadata": {
        "id": "rztCoJoXQpPQ"
      },
      "source": [
        "Compile the model with the optimizer, loss function and metrics:"
      ]
    },
    {
      "cell_type": "code",
      "metadata": {
        "id": "1wyWSaBPQtz1"
      },
      "source": [
        "model.compile(loss=keras.losses.categorical_crossentropy, optimizer=keras.optimizers.Adam(learning_rate=0.001), metrics=['accuracy'])"
      ],
      "execution_count": null,
      "outputs": []
    },
    {
      "cell_type": "markdown",
      "metadata": {
        "id": "GCzFmnV_RTFF"
      },
      "source": [
        "We train the model"
      ]
    },
    {
      "cell_type": "code",
      "metadata": {
        "colab": {
          "base_uri": "https://localhost:8080/"
        },
        "id": "zZxaluE_RUjK",
        "outputId": "053cd751-0846-4f97-880d-9d858205466d"
      },
      "source": [
        "historic = model.fit(train_images, train_labels, epochs = 10, verbose=1, validation_data=(test_images,test_labels))"
      ],
      "execution_count": null,
      "outputs": [
        {
          "output_type": "stream",
          "text": [
            "Epoch 1/10\n",
            "1875/1875 [==============================] - 8s 4ms/step - loss: 0.2962 - accuracy: 0.9051 - val_loss: 0.0437 - val_accuracy: 0.9855\n",
            "Epoch 2/10\n",
            "1875/1875 [==============================] - 7s 4ms/step - loss: 0.0637 - accuracy: 0.9798 - val_loss: 0.0354 - val_accuracy: 0.9887\n",
            "Epoch 3/10\n",
            "1875/1875 [==============================] - 7s 4ms/step - loss: 0.0408 - accuracy: 0.9864 - val_loss: 0.0272 - val_accuracy: 0.9916\n",
            "Epoch 4/10\n",
            "1875/1875 [==============================] - 7s 4ms/step - loss: 0.0341 - accuracy: 0.9891 - val_loss: 0.0331 - val_accuracy: 0.9897\n",
            "Epoch 5/10\n",
            "1875/1875 [==============================] - 7s 4ms/step - loss: 0.0306 - accuracy: 0.9905 - val_loss: 0.0343 - val_accuracy: 0.9903\n",
            "Epoch 6/10\n",
            "1875/1875 [==============================] - 7s 4ms/step - loss: 0.0258 - accuracy: 0.9908 - val_loss: 0.0289 - val_accuracy: 0.9916\n",
            "Epoch 7/10\n",
            "1875/1875 [==============================] - 7s 4ms/step - loss: 0.0225 - accuracy: 0.9931 - val_loss: 0.0265 - val_accuracy: 0.9927\n",
            "Epoch 8/10\n",
            "1875/1875 [==============================] - 7s 4ms/step - loss: 0.0180 - accuracy: 0.9941 - val_loss: 0.0280 - val_accuracy: 0.9923\n",
            "Epoch 9/10\n",
            "1875/1875 [==============================] - 7s 4ms/step - loss: 0.0161 - accuracy: 0.9951 - val_loss: 0.0249 - val_accuracy: 0.9934\n",
            "Epoch 10/10\n",
            "1875/1875 [==============================] - 7s 4ms/step - loss: 0.0145 - accuracy: 0.9952 - val_loss: 0.0301 - val_accuracy: 0.9929\n"
          ],
          "name": "stdout"
        }
      ]
    },
    {
      "cell_type": "code",
      "metadata": {
        "colab": {
          "base_uri": "https://localhost:8080/"
        },
        "id": "Y0xio7HrJGIZ",
        "outputId": "d4fc09d7-a14d-4c17-9a06-7f0e53bb634b"
      },
      "source": [
        "model.evaluate(test_images, test_labels)"
      ],
      "execution_count": null,
      "outputs": [
        {
          "output_type": "stream",
          "text": [
            "313/313 [==============================] - 1s 3ms/step - loss: 0.0301 - accuracy: 0.9929\n"
          ],
          "name": "stdout"
        },
        {
          "output_type": "execute_result",
          "data": {
            "text/plain": [
              "[0.03007577173411846, 0.992900013923645]"
            ]
          },
          "metadata": {
            "tags": []
          },
          "execution_count": 60
        }
      ]
    },
    {
      "cell_type": "markdown",
      "metadata": {
        "id": "ve33neRM-hS6"
      },
      "source": [
        "We save our model"
      ]
    },
    {
      "cell_type": "code",
      "metadata": {
        "id": "YPhxoLpd-kNG"
      },
      "source": [
        "model.save(\"MNIST.h5\")"
      ],
      "execution_count": null,
      "outputs": []
    },
    {
      "cell_type": "markdown",
      "metadata": {
        "id": "vW4bFl6jC4Ah"
      },
      "source": [
        "Plot training/test loss + accuracy"
      ]
    },
    {
      "cell_type": "code",
      "metadata": {
        "colab": {
          "background_save": true,
          "base_uri": "https://localhost:8080/",
          "height": 573
        },
        "id": "wY-BATMxC-ac",
        "outputId": "d9083bf4-f679-4a4f-e00e-8f1c8a7d3e95"
      },
      "source": [
        "plt.title(\"Loss vs val_loss\")\r\n",
        "plt.ylabel(\"loss\")\r\n",
        "plt.xlabel(\"epoch\")\r\n",
        "plt.plot(historic.history[\"loss\"])\r\n",
        "plt.plot(historic.history[\"val_loss\"])\r\n",
        "plt.legend(['train', 'test'], loc='upper left')\r\n",
        "plt.show()\r\n",
        "\r\n",
        "plt.title(\"Accuracy vs val_accuracy\")\r\n",
        "plt.ylabel(\"accuracy\")\r\n",
        "plt.xlabel(\"epoch\")\r\n",
        "plt.plot(historic.history[\"accuracy\"])\r\n",
        "plt.plot(historic.history[\"val_accuracy\"])\r\n",
        "plt.legend(['train', 'test'], loc='upper left')\r\n",
        "plt.show()"
      ],
      "execution_count": null,
      "outputs": [
        {
          "output_type": "display_data",
          "data": {
            "image/png": "[encoded data removed]",
            "text/plain": [
              "<Figure size 432x288 with 1 Axes>"
            ]
          },
          "metadata": {
            "tags": []
          }
        },
        {
          "output_type": "display_data",
          "data": {
            "image/png": "[encoded data removed]",
            "text/plain": [
              "<Figure size 432x288 with 1 Axes>"
            ]
          },
          "metadata": {
            "tags": []
          }
        }
      ]
    },
    {
      "cell_type": "markdown",
      "metadata": {
        "id": "XskxUv-c4i9S"
      },
      "source": [
        "Function to make a predict given a picture of a handwritten digit"
      ]
    },
    {
      "cell_type": "code",
      "metadata": {
        "id": "Z-vGwgn54oyu"
      },
      "source": [
        "def predict_digit(img):\r\n",
        "    #resize image to 28x28 pixels\r\n",
        "    img = img.resize((28,28))\r\n",
        "    #convert rgb to grayscale\r\n",
        "    img = img.convert('L')\r\n",
        "    img = np.array(img)\r\n",
        "    #reshaping to support our model input and normalizing\r\n",
        "    img = img.reshape(1,28,28,1)\r\n",
        "    img = img/255.0\r\n",
        "    #predicting the class\r\n",
        "    res = model.predict(img)[0]\r\n",
        "    return np.argmax(res), max(res)"
      ],
      "execution_count": null,
      "outputs": []
    },
    {
      "cell_type": "markdown",
      "metadata": {
        "id": "FX34BBSpr8_o"
      },
      "source": [
        "We try to predict onto custom input"
      ]
    },
    {
      "cell_type": "code",
      "metadata": {
        "colab": {
          "base_uri": "https://localhost:8080/"
        },
        "id": "Vyp8mOx24qTW",
        "outputId": "bb48e8cc-f2b7-43b2-d9c4-e7f28f2b6e01"
      },
      "source": [
        "f = Image.open(\"ceroMNIST.png\")\r\n",
        "print(predict_digit(f))\r\n",
        "\r\n",
        "f = Image.open(\"uno.png\")\r\n",
        "print(predict_digit(f))\r\n",
        "\r\n",
        "f = Image.open(\"dos.png\")\r\n",
        "print(predict_digit(f))\r\n",
        "\r\n",
        "f = Image.open(\"tres.png\")\r\n",
        "print(predict_digit(f))\r\n",
        "\r\n",
        "f = Image.open(\"cuatro.png\")\r\n",
        "print(predict_digit(f))\r\n",
        "\r\n",
        "f = Image.open(\"cinco.png\")\r\n",
        "print(predict_digit(f))\r\n",
        "\r\n",
        "f = Image.open(\"seisMNIST.png\")\r\n",
        "print(predict_digit(f))\r\n",
        "\r\n",
        "f = Image.open(\"siete.png\")\r\n",
        "print(predict_digit(f))\r\n",
        "\r\n",
        "f = Image.open(\"ocho.png\")\r\n",
        "print(predict_digit(f))\r\n",
        "\r\n",
        "f = Image.open(\"nueve.png\")\r\n",
        "print(predict_digit(f))"
      ],
      "execution_count": null,
      "outputs": [
        {
          "output_type": "stream",
          "text": [
            "(0, 0.9999666)\n",
            "(4, 0.52275974)\n",
            "(3, 0.7666941)\n",
            "(1, 0.35840866)\n",
            "(1, 0.49305198)\n",
            "(3, 0.57372665)\n",
            "(6, 0.9999926)\n",
            "(3, 0.5219665)\n",
            "(9, 0.65566003)\n",
            "(1, 0.73623043)\n"
          ],
          "name": "stdout"
        }
      ]
    }
  ]
}